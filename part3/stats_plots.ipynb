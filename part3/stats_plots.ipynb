{
 "cells": [
  {
   "cell_type": "code",
   "execution_count": 2,
   "metadata": {},
   "outputs": [],
   "source": [
    "import jax\n",
    "jax.config.update('jax_platform_name', 'cpu')\n",
    "import pickle as pkl\n",
    "import matplotlib.pyplot as plt\n",
    "import jax.numpy as jnp\n",
    "import numpy as np \n",
    "import os\n",
    "import numpy as np\n",
    "import pickle as pkl\n",
    "import jax.numpy as jnp\n",
    "from tqdm import tqdm\n",
    "from jax.tree_util import tree_map,tree_flatten,tree_flatten_with_path,keystr,tree_map_with_path\n",
    "import matplotlib.pyplot as plt\n",
    "from jax.numpy.linalg import matrix_norm,vector_norm\n",
    "\n",
    "\n",
    "def compare_stats_settings(path):\n",
    "    settings = {}\n",
    "    if not os.path.isdir(path):\n",
    "        return None,None\n",
    "    \n",
    "    for setting in tqdm(os.listdir(path)):\n",
    "\n",
    "        argmax_test_accs = []\n",
    "        maximum_test_accs = []\n",
    "        train_accs = []\n",
    "        for run in os.listdir(path + \"/\" + setting):\n",
    "            if not os.path.isfile(path + \"/\" + setting + \"/\" + run + \"/\" + \"stats.pkl\"):\n",
    "                continue\n",
    "            with open(path + \"/\" + setting + \"/\" + run + \"/\" + \"stats.pkl\",\"rb\") as f:\n",
    "                stats = pkl.load(f)\n",
    "\n",
    "            test_acc = tree_flatten_with_path(stats[\"test_acc\"])[0]\n",
    "            train_acc = tree_flatten_with_path(stats[\"train_acc\"])[0]\n",
    "\n",
    "\n",
    "            keys, test_acc = [e[0] for e in test_acc],jnp.stack([e[1] for e in test_acc])\n",
    "            train_acc = jnp.stack([e[1] for e in train_acc])\n",
    "\n",
    "            argmax_test_accs.append(np.asarray([int(keystr(keys[i])[1:-1]) for i in jnp.argmax(test_acc,axis=0)]))\n",
    "            maximum_test_accs.append(np.asarray(test_acc[jnp.argmax(test_acc,axis=0),np.arange(test_acc.shape[-1])]))\n",
    "            train_accs.append(np.asarray(train_acc[jnp.argmax(test_acc,axis=0),np.arange(test_acc.shape[-1])]))\n",
    "\n",
    "        if len(argmax_test_accs) > 0:\n",
    "            settings[setting] = (np.concatenate(argmax_test_accs),np.concatenate(maximum_test_accs),np.concatenate(train_accs))\n",
    "    \n",
    "    if settings == {}:\n",
    "        return None,None\n",
    "    \n",
    "    highest_mean_acc_across_settings = max(settings,key=lambda x: np.mean(settings.get(x)[1]))\n",
    "    return (np.mean(settings[highest_mean_acc_across_settings][1]),highest_mean_acc_across_settings, settings[highest_mean_acc_across_settings]),settings\n",
    "\n",
    "def plot_stats(*paths):\n",
    "\n",
    "    fig,axs = plt.subplots(nrows=1,ncols=len(paths))\n",
    "    fig.set_size_inches(len(paths)*4,6)\n",
    "    if len(paths) == 1:\n",
    "        axs = [axs]\n",
    "    for path,ax in zip(paths,axs):\n",
    "\n",
    "        if not os.path.isfile(os.path.join(path,\"stats.pkl\")):\n",
    "            continue\n",
    "\n",
    "        with open(os.path.join(path,\"stats.pkl\"),\"rb\") as f:\n",
    "            stats = pkl.load(f)\n",
    "\n",
    "        train_acc = tree_flatten_with_path(stats[\"train_acc\"])[0]\n",
    "        test_acc = tree_flatten_with_path(stats[\"test_acc\"])[0]\n",
    "\n",
    "        train_x, train_y = np.asarray([keystr(e[0])[1:-1] for e in train_acc]),jnp.mean(jnp.stack([e[1] for e in train_acc]),axis=-1)\n",
    "        test_x, test_y =np.asarray([keystr(e[0])[1:-1] for e in test_acc]),jnp.mean(jnp.stack([e[1] for e in test_acc]),axis=-1)\n",
    "\n",
    "        ax.plot(train_x,train_y, label=\"train acc\",c=\"blue\")\n",
    "        ax.plot(test_x,test_y, label=\"test acc\",c=\"green\")\n",
    "        ax.plot(test_x,train_y-test_y, label=\"dif\",c=\"red\")\n",
    "        ax.set_ylim(0.0,1.0)\n",
    "        ax.legend()\n",
    "        #ax.fill_between(x, y-error, y+error,alpha=0.3)\n",
    "        #argmax = np.argmax(y)\n",
    "        #max = np.max(y)\n",
    "        #ax.plot([x[0],x[-1]],[max,max],c=\"red\")\n",
    "        #ax.plot([x[argmax],x[argmax]],[0,1],c=\"red\")\n",
    "        #ax.set_yticks((0,np.max(y),1))\n",
    "        #ax.legend()\n",
    "        "
   ]
  },
  {
   "cell_type": "code",
   "execution_count": 2,
   "metadata": {},
   "outputs": [
    {
     "name": "stderr",
     "output_type": "stream",
     "text": [
      "100%|██████████| 3/3 [00:00<00:00,  7.08it/s]\n",
      "100%|██████████| 42/42 [00:01<00:00, 30.45it/s]\n",
      "100%|██████████| 30/30 [00:00<00:00, 72.17it/s]\n",
      "100%|██████████| 30/30 [00:00<00:00, 71.04it/s]\n",
      "100%|██████████| 30/30 [00:00<00:00, 78.91it/s]\n",
      "100%|██████████| 23/23 [00:00<00:00, 91.97it/s]\n",
      "100%|██████████| 80/80 [00:02<00:00, 30.21it/s]\n",
      "100%|██████████| 2/2 [00:00<00:00, 43.25it/s]\n"
     ]
    }
   ],
   "source": [
    "\n",
    "max_standard,settings_standard = compare_stats_settings(\"./exps_adam/standard\")\n",
    "max_wd,settings_wd = compare_stats_settings(\"./exps_adam/wd\")\n",
    "max_norm,settings_norm = compare_stats_settings(\"./exps_adam/norm\")\n",
    "max_mean_norm,settings_mean_norm = compare_stats_settings(\"./exps_adam/mean_norm\")\n",
    "max_mean_std,settings_mean_std = compare_stats_settings(\"./exps_adam/mean_std\")\n",
    "max_reverse_mean_norm,settings_reverse_mean_norm = compare_stats_settings(\"./exps_adam/reverse_mean_norm\")\n",
    "max_svd_static_exp_fit,settings_svd_static_exp_fit = compare_stats_settings(\"./exps_adam/svd_static_exp_fit\")\n",
    "max_denseSVD,settings_denseSVD = compare_stats_settings(\"./sidequest/DenseSVD\")"
   ]
  },
  {
   "cell_type": "code",
   "execution_count": null,
   "metadata": {},
   "outputs": [
    {
     "name": "stdout",
     "output_type": "stream",
     "text": [
      "max_standard:  (0.55133337, 'standard0.0001', (array([ 94285, 146516,  12884]), array([0.5514    , 0.55020005, 0.55240005], dtype=float32), array([0.99988, 1.     , 0.84012], dtype=float32)))\n",
      "max_wd:  (0.56270003, '0.01', (array([ 73810, 116181, 107870]), array([0.56350005, 0.56380004, 0.5608    ], dtype=float32), array([0.7115601 , 0.73210007, 0.72648025], dtype=float32)))\n",
      "max_norm:  (0.5727667, '0.5_100', (array([144295, 126159,  37094]), array([0.5766    , 0.57000005, 0.57170004], dtype=float32), array([0.75571996, 0.75999993, 0.7449    ], dtype=float32)))\n",
      "max_mean_norm:  (0.5722334, '0.5_100', (array([99785, 99785, 71930]), array([0.5727    , 0.5715    , 0.57250005], dtype=float32), array([0.75540006, 0.74758   , 0.7473401 ], dtype=float32)))\n",
      "max_mean_std:  (0.40440002, '0.9_100', (array([ 92797, 135496,    280]), array([0.40230003, 0.40739998, 0.40350005], dtype=float32), array([0.40379995, 0.4064    , 0.4099801 ], dtype=float32)))\n",
      "max_reverse_mean_norm:  (0.57366675, '0.5_1', (array([104847, 122519,  82502]), array([0.57580006, 0.57420003, 0.57100004], dtype=float32), array([0.74460006, 0.7393    , 0.73846   ], dtype=float32)))\n",
      "max_svd_static_exp_fit:  (0.56983346, '1_5_1_100', (array([41103, 41103, 43501]), array([0.57040006, 0.5698    , 0.5693001 ], dtype=float32), array([0.8808599 , 0.87753993, 0.88232   ], dtype=float32)))\n",
      "max_denseSVD:  {'0.0008': (array([90699, 91718]), array([0.57350004, 0.5759    ], dtype=float32), array([0.84868  , 0.8444801], dtype=float32)), '0.00125': (array([104551,  95046,  95184]), array([0.57400006, 0.5738    , 0.57290006], dtype=float32), array([0.82500005, 0.8207799 , 0.8196801 ], dtype=float32))}\n"
     ]
    }
   ],
   "source": [
    "print(\"max_standard: \", max_standard)\n",
    "print(\"max_wd: \", max_wd)\n",
    "print(\"max_norm: \", max_norm)\n",
    "print(\"max_mean_norm: \", max_mean_norm)\n",
    "print(\"max_mean_std: \", max_mean_std)\n",
    "print(\"max_reverse_mean_norm: \", max_reverse_mean_norm)\n",
    "print(\"max_svd_static_exp_fit: \", max_svd_static_exp_fit)\n",
    "print(\"max_denseSVD: \", max_denseSVD)"
   ]
  },
  {
   "cell_type": "code",
   "execution_count": 3,
   "metadata": {},
   "outputs": [
    {
     "name": "stderr",
     "output_type": "stream",
     "text": [
      "100%|██████████| 30/30 [00:02<00:00, 14.15it/s]"
     ]
    },
    {
     "name": "stdout",
     "output_type": "stream",
     "text": [
      "(0.5727667, '0.5_100', (array([144295, 126159,  37094]), array([0.5766    , 0.57000005, 0.57170004], dtype=float32), array([0.75571996, 0.75999993, 0.7449    ], dtype=float32)))\n",
      "None\n",
      "None\n",
      "None\n"
     ]
    },
    {
     "name": "stderr",
     "output_type": "stream",
     "text": [
      "\n"
     ]
    }
   ],
   "source": [
    "print(compare_stats_settings(\"./exps_adam/norm\")[0])\n",
    "print(compare_stats_settings(\"./exps_adam/norm_stepscale\")[0])\n",
    "print(compare_stats_settings(\"./exps_adam/norm_stepscale_reverse\")[0])\n",
    "print(compare_stats_settings(\"./exps_adam/norm_layerwise_stepscale\")[0])"
   ]
  }
 ],
 "metadata": {
  "kernelspec": {
   "display_name": "emecomspec",
   "language": "python",
   "name": "python3"
  },
  "language_info": {
   "codemirror_mode": {
    "name": "ipython",
    "version": 3
   },
   "file_extension": ".py",
   "mimetype": "text/x-python",
   "name": "python",
   "nbconvert_exporter": "python",
   "pygments_lexer": "ipython3",
   "version": "3.12.4"
  }
 },
 "nbformat": 4,
 "nbformat_minor": 2
}
