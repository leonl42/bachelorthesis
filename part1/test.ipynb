{
 "cells": [
  {
   "cell_type": "code",
   "execution_count": 2,
   "metadata": {},
   "outputs": [],
   "source": [
    "import os\n",
    "import json\n",
    "import shutil"
   ]
  },
  {
   "cell_type": "code",
   "execution_count": 9,
   "metadata": {},
   "outputs": [
    {
     "name": "stdout",
     "output_type": "stream",
     "text": [
      "python main.py ./exps_sgdm/gcstdu_div4/0.4_1/ --reset\n",
      "python main.py ./exps_sgdm/gcstdu_div4/0.2_1/ --reset\n",
      "python main.py ./exps_sgdm/gcstdu_div4/0.25_1/ --reset\n",
      "python main.py ./exps_sgdm/gcstdu_div4/0.05_1/ --reset\n",
      "python main.py ./exps_sgdm/gcstdu_div4/0.3_1/ --reset\n",
      "python main.py ./exps_sgdm/gcstdu_div4/0.45_1/ --reset\n",
      "python main.py ./exps_sgdm/gcstdu_div4/0.1_1/ --reset\n",
      "python main.py ./exps_sgdm/gcstdu_div4/0.15_1/ --reset\n",
      "python main.py ./exps_sgdm/gcstdu_div4/0.5_1/ --reset\n",
      "python main.py ./exps_sgdm/gcstdu_div4/0.35_1/ --reset\n",
      "python main.py ./exps_sgdm/wd_div4/0.014/ --reset\n",
      "python main.py ./exps_sgdm/wd_div4/0.005/ --reset\n",
      "python main.py ./exps_sgdm/wd_div4/0.011/ --reset\n",
      "python main.py ./exps_sgdm/wd_div4/0.001/ --reset\n",
      "python main.py ./exps_sgdm/wd_div4/0.006/ --reset\n",
      "python main.py ./exps_sgdm/wd_div4/0.002/ --reset\n",
      "python main.py ./exps_sgdm/wd_div4/0.009/ --reset\n",
      "python main.py ./exps_sgdm/wd_div4/0.007/ --reset\n",
      "python main.py ./exps_sgdm/wd_div4/0.004/ --reset\n",
      "python main.py ./exps_sgdm/wd_div4/0.003/ --reset\n",
      "python main.py ./exps_sgdm/wd_div4/0.01/ --reset\n",
      "python main.py ./exps_sgdm/wd_div4/0.013/ --reset\n",
      "python main.py ./exps_sgdm/wd_div4/0.008/ --reset\n",
      "python main.py ./exps_sgdm/wd_div4/0.012/ --reset\n",
      "python main.py ./exps_sgdm/norm_div4/0.4_1/ --reset\n",
      "python main.py ./exps_sgdm/norm_div4/0.2_1/ --reset\n",
      "python main.py ./exps_sgdm/norm_div4/0.25_1/ --reset\n",
      "python main.py ./exps_sgdm/norm_div4/0.05_1/ --reset\n",
      "python main.py ./exps_sgdm/norm_div4/0.3_1/ --reset\n",
      "python main.py ./exps_sgdm/norm_div4/0.45_1/ --reset\n",
      "python main.py ./exps_sgdm/norm_div4/0.1_1/ --reset\n",
      "python main.py ./exps_sgdm/norm_div4/0.15_1/ --reset\n",
      "python main.py ./exps_sgdm/norm_div4/0.5_1/ --reset\n",
      "python main.py ./exps_sgdm/norm_div4/0.35_1/ --reset\n",
      "python main.py ./exps_sgdm/standard_div4/0.025/ --reset\n",
      "python main.py ./exps_sgdm/standard_div4/0.005/ --reset\n",
      "python main.py ./exps_sgdm/standard_div4/0.011/ --reset\n",
      "python main.py ./exps_sgdm/standard_div4/0.044/ --reset\n",
      "python main.py ./exps_sgdm/standard_div4/0.006/ --reset\n",
      "python main.py ./exps_sgdm/standard_div4/0.016/ --reset\n",
      "python main.py ./exps_sgdm/standard_div4/0.099/ --reset\n",
      "python main.py ./exps_sgdm/standard_div4/0.008/ --reset\n"
     ]
    }
   ],
   "source": [
    "path = \"./exps_sgdm\"\n",
    "for exp in os.listdir(path):\n",
    "\n",
    "    if exp.endswith(\"_div8\"):\n",
    "\n",
    "        for sub_exp in os.listdir(os.path.join(path,exp)):\n",
    "            if os.path.exists(os.path.join(path,exp,sub_exp,\"settings.json\")):\n",
    "                with open(os.path.join(path,exp,sub_exp,\"settings.json\"),\"r\") as f:\n",
    "                    js = json.load(f)\n",
    "                \n",
    "                js[\"model\"][\"features_div\"] = 4\n",
    "                os.makedirs(os.path.join(path,exp.replace(\"_div8\",\"_div4\"),sub_exp))\n",
    "                with open(os.path.join(path,exp.replace(\"_div8\",\"_div4\"),sub_exp,\"settings.json\"),\"w\") as f:\n",
    "                    json.dump(js,f)\n",
    "\n",
    "                print(\"python main.py {0}/ --reset\".format(os.path.join(path,exp.replace(\"_div8\",\"_div4\"),sub_exp)))\n"
   ]
  },
  {
   "cell_type": "code",
   "execution_count": 2,
   "metadata": {},
   "outputs": [],
   "source": [
    "\n",
    "\n",
    "for folder in os.listdir(\"./exps_sgdm/wd\"):\n",
    "    with open(os.path.join(\"./exps_sgdm/wd\",folder,\"settings.json\"),\"r\") as f:\n",
    "        js = json.load(f)\n",
    "        js[\"save_args\"][\"save_grads_every\"] = 10000\n",
    "        js[\"save_args\"][\"save_states_every\"] = 10000\n",
    "        js[\"num_steps\"] = 150000\n",
    "\n",
    "    os.makedirs(os.path.join(\"./exps_sgdm/wd\",folder),exist_ok=True)\n",
    "    with open(os.path.join(\"./exps_sgdm/wd\",folder,\"settings.json\"),\"w\") as f:\n",
    "        json.dump(js,f)"
   ]
  },
  {
   "cell_type": "code",
   "execution_count": 3,
   "metadata": {},
   "outputs": [
    {
     "name": "stdout",
     "output_type": "stream",
     "text": [
      "python main.py ./exps_sgdm/wd/0.014/ --overwrite-num-steps 150000\n",
      "python main.py ./exps_sgdm/wd/0.005/ --overwrite-num-steps 150000\n",
      "python main.py ./exps_sgdm/wd/0.011/ --overwrite-num-steps 150000\n",
      "python main.py ./exps_sgdm/wd/0.001/ --overwrite-num-steps 150000\n",
      "python main.py ./exps_sgdm/wd/0.006/ --overwrite-num-steps 150000\n",
      "python main.py ./exps_sgdm/wd/0.002/ --overwrite-num-steps 150000\n",
      "python main.py ./exps_sgdm/wd/0.009/ --overwrite-num-steps 150000\n",
      "python main.py ./exps_sgdm/wd/0.007/ --overwrite-num-steps 150000\n",
      "python main.py ./exps_sgdm/wd/0.004/ --overwrite-num-steps 150000\n",
      "python main.py ./exps_sgdm/wd/0.003/ --overwrite-num-steps 150000\n",
      "python main.py ./exps_sgdm/wd/0.01/ --overwrite-num-steps 150000\n",
      "python main.py ./exps_sgdm/wd/0.013/ --overwrite-num-steps 150000\n",
      "python main.py ./exps_sgdm/wd/0.008/ --overwrite-num-steps 150000\n",
      "python main.py ./exps_sgdm/wd/0.012/ --overwrite-num-steps 150000\n"
     ]
    }
   ],
   "source": [
    "for folder in os.listdir(\"./exps_sgdm/wd\"):\n",
    "    print(\"python main.py {0}/ --overwrite-num-steps 150000\".format(os.path.join(\"./exps_sgdm/wd\", folder)))\n"
   ]
  },
  {
   "cell_type": "code",
   "execution_count": 10,
   "metadata": {},
   "outputs": [
    {
     "name": "stdout",
     "output_type": "stream",
     "text": [
      "python main.py ./exps_sgdm/norm_dssmall/0.15000000000000002_1/ --reset\n",
      "python main.py ./exps_sgdm/norm_dssmall/0.4_1/ --reset\n",
      "python main.py ./exps_sgdm/norm_dssmall/0.35000000000000003_1/ --reset\n",
      "python main.py ./exps_sgdm/norm_dssmall/0.2_1/ --reset\n",
      "python main.py ./exps_sgdm/norm_dssmall/0.25_1/ --reset\n",
      "python main.py ./exps_sgdm/norm_dssmall/0.05_1/ --reset\n",
      "python main.py ./exps_sgdm/norm_dssmall/0.3_1/ --reset\n",
      "python main.py ./exps_sgdm/norm_dssmall/0.45_1/ --reset\n",
      "python main.py ./exps_sgdm/norm_dssmall/0.1_1/ --reset\n",
      "python main.py ./exps_sgdm/norm_dssmall/0.5_1/ --reset\n",
      "python main.py ./exps_sgdm/wd_dssmall/0.014/ --reset\n",
      "python main.py ./exps_sgdm/wd_dssmall/0.005/ --reset\n",
      "python main.py ./exps_sgdm/wd_dssmall/0.011/ --reset\n",
      "python main.py ./exps_sgdm/wd_dssmall/0.001/ --reset\n",
      "python main.py ./exps_sgdm/wd_dssmall/0.010000000000000002/ --reset\n",
      "python main.py ./exps_sgdm/wd_dssmall/0.013000000000000001/ --reset\n",
      "python main.py ./exps_sgdm/wd_dssmall/0.006/ --reset\n",
      "python main.py ./exps_sgdm/wd_dssmall/0.002/ --reset\n",
      "python main.py ./exps_sgdm/wd_dssmall/0.009000000000000001/ --reset\n",
      "python main.py ./exps_sgdm/wd_dssmall/0.007/ --reset\n",
      "python main.py ./exps_sgdm/wd_dssmall/0.004/ --reset\n",
      "python main.py ./exps_sgdm/wd_dssmall/0.003/ --reset\n",
      "python main.py ./exps_sgdm/wd_dssmall/0.008/ --reset\n",
      "python main.py ./exps_sgdm/wd_dssmall/0.012/ --reset\n"
     ]
    }
   ],
   "source": [
    "for folder in os.listdir(\"./exps_sgdm/norm_dssmall\"):\n",
    "    print(\"python main.py {0}/ --reset\".format(os.path.join(\"./exps_sgdm/norm_dssmall\", folder)))\n",
    "\n",
    "for folder in os.listdir(\"./exps_sgdm/wd_dssmall\"):\n",
    "    print(\"python main.py {0}/ --reset\".format(os.path.join(\"./exps_sgdm/wd_dssmall\", folder)))"
   ]
  },
  {
   "cell_type": "code",
   "execution_count": 11,
   "metadata": {},
   "outputs": [
    {
     "name": "stderr",
     "output_type": "stream",
     "text": [
      "2025-01-14 16:44:45.429025: I tensorflow/core/util/port.cc:153] oneDNN custom operations are on. You may see slightly different numerical results due to floating-point round-off errors from different computation orders. To turn them off, set the environment variable `TF_ENABLE_ONEDNN_OPTS=0`.\n",
      "2025-01-14 16:44:45.436666: E external/local_xla/xla/stream_executor/cuda/cuda_fft.cc:485] Unable to register cuFFT factory: Attempting to register factory for plugin cuFFT when one has already been registered\n",
      "2025-01-14 16:44:45.445950: E external/local_xla/xla/stream_executor/cuda/cuda_dnn.cc:8454] Unable to register cuDNN factory: Attempting to register factory for plugin cuDNN when one has already been registered\n",
      "2025-01-14 16:44:45.448988: E external/local_xla/xla/stream_executor/cuda/cuda_blas.cc:1452] Unable to register cuBLAS factory: Attempting to register factory for plugin cuBLAS when one has already been registered\n",
      "2025-01-14 16:44:45.456390: I tensorflow/core/platform/cpu_feature_guard.cc:210] This TensorFlow binary is optimized to use available CPU instructions in performance-critical operations.\n",
      "To enable the following instructions: AVX2 AVX_VNNI FMA, in other operations, rebuild TensorFlow with the appropriate compiler flags.\n",
      "2025-01-14 16:44:45.957063: W tensorflow/compiler/tf2tensorrt/utils/py_utils.cc:38] TF-TRT Warning: Could not find TensorRT\n"
     ]
    }
   ],
   "source": [
    "import tensorflow as tf\n",
    "import tensorflow_datasets as tfds"
   ]
  },
  {
   "cell_type": "code",
   "execution_count": 27,
   "metadata": {},
   "outputs": [],
   "source": [
    "builder = tfds.builder(\"cifar10\",data_dir=\"./datasets\")\n",
    "builder.download_and_prepare()\n",
    "ds_train,ds_test = builder.as_dataset(split=[\"train\", \"test\"])\n",
    "\n",
    "solve_dict = lambda elem : (elem[\"image\"],elem[\"label\"])\n",
    "ds_train,ds_test = ds_train.map(solve_dict),ds_test.map(solve_dict)\n",
    "\n",
    "dtype = tf.dtypes.float32\n",
    "cast = lambda img,lbl : (tf.cast(img,dtype),lbl)\n",
    "ds_train,ds_test = ds_train.map(cast),ds_test.map(cast)\n",
    "\n",
    "mean = tf.convert_to_tensor([0.32768, 0.32768, 0.32768],dtype=dtype)[None,None,:]\n",
    "std = tf.convert_to_tensor([0.27755222, 0.26925606, 0.2683012 ],dtype=dtype)[None,None,:]\n",
    "\n",
    "normalize = lambda img,lbl : ((img/255-mean)/std,lbl)\n",
    "\n",
    "ds_train,ds_test = ds_train.map(normalize),ds_test.map(normalize)\n",
    "\n",
    "ds_train = ds_train.shuffle(buffer_size=50000).take(1)"
   ]
  },
  {
   "cell_type": "code",
   "execution_count": 28,
   "metadata": {},
   "outputs": [
    {
     "name": "stdout",
     "output_type": "stream",
     "text": [
      "tf.Tensor(1, shape=(), dtype=int64)\n"
     ]
    }
   ],
   "source": [
    "print(list(ds_train)[0][1])"
   ]
  }
 ],
 "metadata": {
  "kernelspec": {
   "display_name": "emecomspec",
   "language": "python",
   "name": "python3"
  },
  "language_info": {
   "codemirror_mode": {
    "name": "ipython",
    "version": 3
   },
   "file_extension": ".py",
   "mimetype": "text/x-python",
   "name": "python",
   "nbconvert_exporter": "python",
   "pygments_lexer": "ipython3",
   "version": "3.12.4"
  }
 },
 "nbformat": 4,
 "nbformat_minor": 2
}
