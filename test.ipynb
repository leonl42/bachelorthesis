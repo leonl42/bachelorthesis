{
 "cells": [
  {
   "cell_type": "code",
   "execution_count": null,
   "metadata": {},
   "outputs": [],
   "source": [
    "import os\n",
    "import json\n",
    "\"\"\"\n",
    "for hyp in os.listdir(f\"./data/sgdm_wbn/norm_p1_lrfix\"):\n",
    "    p = f\"./data/sgdm_wbn/norm_p1_lrfix/{hyp}\"\n",
    "    with open(f\"{p}/settings.json\",\"r\") as f:\n",
    "        js = json.load(f)\n",
    "    \n",
    "    js[\"norm\"][\"norm_fn\"] =  \"center_norm_uncenter\"\n",
    "    \n",
    "    new_p = f\"./data/sgdm_wbn/cnormu_p1_lrfix/{hyp}\"\n",
    "    os.makedirs(new_p,exist_ok=True)\n",
    "    with open(f\"{new_p}/settings.json\",\"w\") as f:\n",
    "        json.dump(js,f,indent=4)\n",
    "\"\"\""
   ]
  },
  {
   "cell_type": "code",
   "execution_count": 4,
   "metadata": {},
   "outputs": [],
   "source": [
    "from jax.tree_util import keystr,tree_map_with_path\n",
    "def substrings_in_path(s,match):\n",
    "    \"\"\"\n",
    "    Returns True if all strings in *substrings is in s, else False. \n",
    "\n",
    "    Takes:\n",
    "        s <string> : string for which we want to check if it has substrings inside\n",
    "        *substrings <string> : list of strings for which we want to check if all of the appear in s\n",
    "    Returns:\n",
    "        <boolean>\n",
    "    \"\"\"\n",
    "    ors = match.split(\"|\")\n",
    "    ands = [e_or.split(\"&\") for e_or in ors]\n",
    "\n",
    "    return any([all([e_and.lower() in keystr(s).lower() for e_and in e_or]) for e_or in ands])"
   ]
  },
  {
   "cell_type": "code",
   "execution_count": 7,
   "metadata": {},
   "outputs": [
    {
     "name": "stdout",
     "output_type": "stream",
     "text": [
      "{'Conv': {'bias': [False, False, False], 'kernel': [True, True, True]}, 'Dense': {'out': [True, True, True]}}\n"
     ]
    }
   ],
   "source": [
    "d = {\"Dense\" : {\"out\" : [0,1,2]},\"Conv\" : {\"kernel\" : [0,4,2],\"bias\" : [10,4,2]}}\n",
    "print(tree_map_with_path(lambda s,x : substrings_in_path(s,\"conv&kernel|dense&out\"),d))"
   ]
  },
  {
   "cell_type": "code",
   "execution_count": 6,
   "metadata": {},
   "outputs": [],
   "source": [
    "js = lambda lr : {\n",
    "    \"num_devices\": 1,\n",
    "    \"num_experiments_per_device\": 3,\n",
    "    \"random_key\": 42,\n",
    "    \"num_steps\": 100000,\n",
    "    \"save_args\": {\n",
    "        \"save_states_every\": 100000,\n",
    "        \"save_train_stats_every\": 1000,\n",
    "        \"save_test_stats_every\": 1000,\n",
    "        \"save_grad_every\": -1,\n",
    "        \"save_hessian_every\": -1\n",
    "    },\n",
    "    \"model\": {\n",
    "        \"model\": \"vgg11\",\n",
    "        \"num_classes\": 10,\n",
    "        \"activation_fn\": \"relu\",\n",
    "        \"use_bn\" : False\n",
    "    },\n",
    "    \"dataset\": {\n",
    "        \"dataset\": \"cifar10\",\n",
    "        \"batch_size\": 64,\n",
    "        \"dataset_path\": \"./data/datasets/\"\n",
    "    },\n",
    "    \"optimizer\": {\n",
    "        \"optimizer\": \"sgdm\",\n",
    "        \"lr\": lr,\n",
    "        \"lambda_wd\": 0,\n",
    "        \"momentum\": 0.9,\n",
    "        \"apply_wd_every\": 1\n",
    "    },\n",
    "    \"norm\": {\n",
    "        \"change_scale\": \"identity\",\n",
    "        \"norm_fn\": \"identity\",\n",
    "        \"norm_multiply\": 1,\n",
    "        \"norm_every\": -1,\n",
    "        \"reverse_norms\": False\n",
    "    },\n",
    "    \"at_step\" : 0\n",
    "}"
   ]
  },
  {
   "cell_type": "code",
   "execution_count": 7,
   "metadata": {},
   "outputs": [],
   "source": [
    "start_lr = 0.0001\n",
    "for i in range(10):\n",
    "    lr = round(start_lr*(2**i),8)\n",
    "\n",
    "    os.makedirs(f\"./data/sgdm_wobn/noreg/{str(lr)}\",exist_ok=True)\n",
    "    with open(f\"./data/sgdm_wobn/noreg/{str(lr)}/settings.json\", \"w\") as f:\n",
    "        json.dump(js(lr),f,indent=4)"
   ]
  },
  {
   "cell_type": "code",
   "execution_count": 1,
   "metadata": {},
   "outputs": [],
   "source": [
    "import pickle as pkl\n",
    "\n",
    "with open(\"./test/cnorm_wbn/states/0.pkl\",\"rb\") as f:\n",
    "    s = pkl.load(f)"
   ]
  },
  {
   "cell_type": "code",
   "execution_count": 9,
   "metadata": {},
   "outputs": [],
   "source": [
    "for optim in [\"./data/adam_wbn\"]:\n",
    "    for exp in os.listdir(optim):\n",
    "        for hyp in os.listdir(optim + \"/\" + exp):\n",
    "            if os.path.exists(os.path.join(optim,exp,hyp,\"settings.json\")):\n",
    "                with open(os.path.join(optim,exp,hyp,\"settings.json\"),\"r\") as f:\n",
    "                    js = json.load(f)\n",
    "                \n",
    "                js[\"model\"][\"bn\"] = True\n",
    "                js[\"dataset\"][\"dataset_path\"] = \"./data/datasets/\"\n",
    "                with open(os.path.join(optim,exp,hyp,\"settings.json\"),\"w\") as f:\n",
    "                    json.dump(js,f,indent=4)\n"
   ]
  },
  {
   "cell_type": "code",
   "execution_count": 21,
   "metadata": {},
   "outputs": [
    {
     "name": "stdout",
     "output_type": "stream",
     "text": [
      "[0.002048 : 0.002048 | True] -> \n",
      "[3.2e-05 : 3.2e-05 | True] -> \n",
      "[2e-06 : 2e-06 | True] -> \n",
      "[0.000256 : 0.000256 | True] -> \n",
      "[0.032768 : 0.032768 | True] -> \n",
      "[4e-06 : 4e-06 | True] -> \n",
      "[0.016384 : 0.016384 | True] -> \n",
      "[1.6e-05 : 1.6e-05 | True] -> \n",
      "[0.001024 : 0.001024 | True] -> \n",
      "[0.008192 : 0.008192 | True] -> \n",
      "[1e-06 : 1e-06 | True] -> \n",
      "[0.065536 : 0.065536 | True] -> \n",
      "[0.000512 : 0.000512 | True] -> \n",
      "[0.004096 : 0.004096 | True] -> \n",
      "[0.000128 : 0.000128 | True] -> \n",
      "[8e-06 : 8e-06 | True] -> \n",
      "[6.4e-05 : 6.4e-05 | True] -> \n",
      "[0.131072 : 0.131072 | True] -> \n"
     ]
    }
   ],
   "source": [
    "names = []\n",
    "ps = []\n",
    "trained = []\n",
    "for hyp in os.listdir(\"./exps_adam2/wd_div4\"):\n",
    "    with open(os.path.join(\"./exps_adam2/wd_div4\",hyp,\"settings.json\"),\"r\") as f:\n",
    "        js = json.load(f)\n",
    "    names.append(hyp)\n",
    "    ps.append(js[\"optimizer\"][\"lambda_wd\"])\n",
    "    trained.append(os.path.exists(os.path.join(\"./exps_adam2/wd_div4\",hyp,\"test_stats\")))\n",
    "\n",
    "for i in range(len(names)):\n",
    "    matching = []\n",
    "    for j in range(len(names)):\n",
    "        if ps[i] == ps[j] and names[i] != names[j]:\n",
    "            matching.append(f\"[{names[j]} : {ps[j]} | {trained[j]}]\")\n",
    "    print(f\"[{names[i]} : {ps[i]} | {trained[i]}] -> {\" \".join(matching)}\")"
   ]
  },
  {
   "cell_type": "code",
   "execution_count": null,
   "metadata": {},
   "outputs": [],
   "source": [
    "0.0005 \n",
    "0.0007\n",
    "0.0016\n",
    "0.0004\n",
    "0.0028"
   ]
  },
  {
   "cell_type": "code",
   "execution_count": null,
   "metadata": {},
   "outputs": [],
   "source": []
  },
  {
   "cell_type": "code",
   "execution_count": null,
   "metadata": {},
   "outputs": [],
   "source": []
  },
  {
   "cell_type": "code",
   "execution_count": 10,
   "metadata": {},
   "outputs": [
    {
     "name": "stdout",
     "output_type": "stream",
     "text": [
      "python main.py ./exps_adam2/norm_div8/0.8_1/ --reset\n",
      "python main.py ./exps_adam2/norm_div8/2.0_1/ --reset\n",
      "python main.py ./exps_adam2/norm_div8/3.6_1/ --reset\n",
      "python main.py ./exps_adam2/norm_div8/0.4_1/ --reset\n",
      "python main.py ./exps_adam2/norm_div8/2.2_1/ --reset\n",
      "python main.py ./exps_adam2/norm_div8/1.8_1/ --reset\n",
      "python main.py ./exps_adam2/norm_div8/3.4_1/ --reset\n",
      "python main.py ./exps_adam2/norm_div8/1.2_1/ --reset\n",
      "python main.py ./exps_adam2/norm_div8/0.2_1/ --reset\n",
      "python main.py ./exps_adam2/norm_div8/3.0_1/ --reset\n",
      "python main.py ./exps_adam2/norm_div8/2.4_1/ --reset\n",
      "python main.py ./exps_adam2/norm_div8/1.0_1/ --reset\n",
      "python main.py ./exps_adam2/norm_div8/2.6_1/ --reset\n",
      "python main.py ./exps_adam2/norm_div8/2.8_1/ --reset\n",
      "python main.py ./exps_adam2/norm_div8/0.6_1/ --reset\n",
      "python main.py ./exps_adam2/norm_div8/1.6_1/ --reset\n",
      "python main.py ./exps_adam2/norm_div8/3.2_1/ --reset\n",
      "python main.py ./exps_adam2/norm_div8/1.4_1/ --reset\n",
      "python main.py ./exps_adam2/cnorm_div8/0.8_1/ --reset\n",
      "python main.py ./exps_adam2/cnorm_div8/2.0_1/ --reset\n",
      "python main.py ./exps_adam2/cnorm_div8/3.6_1/ --reset\n",
      "python main.py ./exps_adam2/cnorm_div8/0.4_1/ --reset\n",
      "python main.py ./exps_adam2/cnorm_div8/2.2_1/ --reset\n",
      "python main.py ./exps_adam2/cnorm_div8/1.8_1/ --reset\n",
      "python main.py ./exps_adam2/cnorm_div8/3.4_1/ --reset\n",
      "python main.py ./exps_adam2/cnorm_div8/1.2_1/ --reset\n",
      "python main.py ./exps_adam2/cnorm_div8/0.2_1/ --reset\n",
      "python main.py ./exps_adam2/cnorm_div8/3.0_1/ --reset\n",
      "python main.py ./exps_adam2/cnorm_div8/2.4_1/ --reset\n",
      "python main.py ./exps_adam2/cnorm_div8/1.0_1/ --reset\n",
      "python main.py ./exps_adam2/cnorm_div8/2.6_1/ --reset\n",
      "python main.py ./exps_adam2/cnorm_div8/2.8_1/ --reset\n",
      "python main.py ./exps_adam2/cnorm_div8/0.6_1/ --reset\n",
      "python main.py ./exps_adam2/cnorm_div8/1.6_1/ --reset\n",
      "python main.py ./exps_adam2/cnorm_div8/3.2_1/ --reset\n",
      "python main.py ./exps_adam2/cnorm_div8/1.4_1/ --reset\n",
      "python main.py ./exps_adam2/cnormu_div8/0.8_1/ --reset\n",
      "python main.py ./exps_adam2/cnormu_div8/2.0_1/ --reset\n",
      "python main.py ./exps_adam2/cnormu_div8/3.6_1/ --reset\n",
      "python main.py ./exps_adam2/cnormu_div8/0.4_1/ --reset\n",
      "python main.py ./exps_adam2/cnormu_div8/2.2_1/ --reset\n",
      "python main.py ./exps_adam2/cnormu_div8/1.8_1/ --reset\n",
      "python main.py ./exps_adam2/cnormu_div8/3.4_1/ --reset\n",
      "python main.py ./exps_adam2/cnormu_div8/1.2_1/ --reset\n",
      "python main.py ./exps_adam2/cnormu_div8/0.2_1/ --reset\n",
      "python main.py ./exps_adam2/cnormu_div8/3.0_1/ --reset\n",
      "python main.py ./exps_adam2/cnormu_div8/2.4_1/ --reset\n",
      "python main.py ./exps_adam2/cnormu_div8/1.0_1/ --reset\n",
      "python main.py ./exps_adam2/cnormu_div8/2.6_1/ --reset\n",
      "python main.py ./exps_adam2/cnormu_div8/2.8_1/ --reset\n",
      "python main.py ./exps_adam2/cnormu_div8/0.6_1/ --reset\n",
      "python main.py ./exps_adam2/cnormu_div8/1.6_1/ --reset\n",
      "python main.py ./exps_adam2/cnormu_div8/3.2_1/ --reset\n",
      "python main.py ./exps_adam2/cnormu_div8/1.4_1/ --reset\n",
      "python main.py ./exps_adam2/gcstdu_div8/0.8_1/ --reset\n",
      "python main.py ./exps_adam2/gcstdu_div8/2.0_1/ --reset\n",
      "python main.py ./exps_adam2/gcstdu_div8/3.6_1/ --reset\n",
      "python main.py ./exps_adam2/gcstdu_div8/0.4_1/ --reset\n",
      "python main.py ./exps_adam2/gcstdu_div8/2.2_1/ --reset\n",
      "python main.py ./exps_adam2/gcstdu_div8/1.8_1/ --reset\n",
      "python main.py ./exps_adam2/gcstdu_div8/3.4_1/ --reset\n",
      "python main.py ./exps_adam2/gcstdu_div8/1.2_1/ --reset\n",
      "python main.py ./exps_adam2/gcstdu_div8/0.2_1/ --reset\n",
      "python main.py ./exps_adam2/gcstdu_div8/3.0_1/ --reset\n",
      "python main.py ./exps_adam2/gcstdu_div8/2.4_1/ --reset\n",
      "python main.py ./exps_adam2/gcstdu_div8/1.0_1/ --reset\n",
      "python main.py ./exps_adam2/gcstdu_div8/2.6_1/ --reset\n",
      "python main.py ./exps_adam2/gcstdu_div8/2.8_1/ --reset\n",
      "python main.py ./exps_adam2/gcstdu_div8/0.6_1/ --reset\n",
      "python main.py ./exps_adam2/gcstdu_div8/1.6_1/ --reset\n",
      "python main.py ./exps_adam2/gcstdu_div8/3.2_1/ --reset\n",
      "python main.py ./exps_adam2/gcstdu_div8/1.4_1/ --reset\n",
      "python main.py ./exps_adam2/noreg_div8/0.00021/ --reset\n",
      "python main.py ./exps_adam2/noreg_div8/0.00017/ --reset\n",
      "python main.py ./exps_adam2/noreg_div8/0.025/ --reset\n",
      "python main.py ./exps_adam2/noreg_div8/9e-05/ --reset\n",
      "python main.py ./exps_adam2/noreg_div8/0.00025/ --reset\n",
      "python main.py ./exps_adam2/noreg_div8/0.00051/ --reset\n",
      "python main.py ./exps_adam2/noreg_div8/0.001/ --reset\n",
      "python main.py ./exps_adam2/noreg_div8/0.00069/ --reset\n",
      "python main.py ./exps_adam2/noreg_div8/0.00625/ --reset\n",
      "python main.py ./exps_adam2/noreg_div8/0.0016/ --reset\n",
      "python main.py ./exps_adam2/noreg_div8/0.00039/ --reset\n",
      "python main.py ./exps_adam2/noreg_div8/0.0001/ --reset\n",
      "python main.py ./exps_adam2/noreg_div8/0.00015/ --reset\n",
      "python main.py ./exps_adam2/noreg_div8/0.0004/ --reset\n",
      "python main.py ./exps_adam2/noreg_div8/0.00278/ --reset\n",
      "python main.py ./exps_adam2/noreg_div8/0.00013/ --reset\n",
      "python main.py ./exps_adam2/noreg_div8/0.0028/ --reset\n",
      "python main.py ./exps_adam2/noreg_div8/0.0005/ --reset\n",
      "python main.py ./exps_adam2/noreg_div8/0.00011/ --reset\n",
      "python main.py ./exps_adam2/noreg_div8/0.00031/ --reset\n",
      "python main.py ./exps_adam2/noreg_div8/8e-05/ --reset\n",
      "python main.py ./exps_adam2/noreg_div8/0.00156/ --reset\n",
      "python main.py ./exps_adam2/noreg_div8/0.0007/ --reset\n",
      "python main.py ./exps_adam2/wd_div8/0.002048/ --reset\n",
      "python main.py ./exps_adam2/wd_div8/3.2e-05/ --reset\n",
      "python main.py ./exps_adam2/wd_div8/2e-06/ --reset\n",
      "python main.py ./exps_adam2/wd_div8/0.000256/ --reset\n",
      "python main.py ./exps_adam2/wd_div8/0.032768/ --reset\n",
      "python main.py ./exps_adam2/wd_div8/4e-06/ --reset\n",
      "python main.py ./exps_adam2/wd_div8/0.016384/ --reset\n",
      "python main.py ./exps_adam2/wd_div8/1.6e-05/ --reset\n",
      "python main.py ./exps_adam2/wd_div8/0.001024/ --reset\n",
      "python main.py ./exps_adam2/wd_div8/0.008192/ --reset\n",
      "python main.py ./exps_adam2/wd_div8/1e-06/ --reset\n",
      "python main.py ./exps_adam2/wd_div8/0.065536/ --reset\n",
      "python main.py ./exps_adam2/wd_div8/0.000512/ --reset\n",
      "python main.py ./exps_adam2/wd_div8/0.004096/ --reset\n",
      "python main.py ./exps_adam2/wd_div8/0.000128/ --reset\n",
      "python main.py ./exps_adam2/wd_div8/8e-06/ --reset\n",
      "python main.py ./exps_adam2/wd_div8/6.4e-05/ --reset\n",
      "python main.py ./exps_adam2/wd_div8/0.131072/ --reset\n"
     ]
    }
   ],
   "source": [
    "for exp in [\"norm\",\"cnorm\",\"cnormu\",\"gcstdu\",\"noreg\",\"wd\"]:\n",
    "    for hyp in os.listdir(os.path.join(\"./exps_adam2\",exp)):\n",
    "        with open(os.path.join(\"./exps_adam2\",exp,hyp,\"settings.json\"),\"r\") as f:\n",
    "            js = json.load(f)\n",
    "        js[\"save_args\"][\"save_states_every\"] = 200000\n",
    "        js[\"save_args\"][\"save_grad_every\"] = -1\n",
    "        js[\"num_steps\"] = 200000\n",
    "        js[\"model\"][\"features_div\"] = 8\n",
    "\n",
    "        os.makedirs(os.path.join(\"./exps_adam2\",exp+\"_div8\",hyp))\n",
    "        with open(os.path.join(\"./exps_adam2\",exp+\"_div8\",hyp,\"settings.json\"),\"w\") as f:\n",
    "            json.dump(js,f)\n",
    "\n",
    "        print(\"python main.py {0}/ --reset\".format(os.path.join(\"./exps_adam2\",exp+\"_div8\",hyp)))"
   ]
  },
  {
   "cell_type": "code",
   "execution_count": 8,
   "metadata": {},
   "outputs": [
    {
     "name": "stdout",
     "output_type": "stream",
     "text": [
      "python main.py ./exps_adam2/wd/5e-07/ --reset\n",
      "python main.py ./exps_adam2/wd/2.5e-07/ --reset\n",
      "python main.py ./exps_adam2/wd/1.2e-07/ --reset\n",
      "python main.py ./exps_adam2/wd/6e-08/ --reset\n",
      "python main.py ./exps_adam2/wd/3e-08/ --reset\n",
      "python main.py ./exps_adam2/wd/2e-08/ --reset\n",
      "python main.py ./exps_adam2/wd/1e-08/ --reset\n"
     ]
    }
   ],
   "source": [
    "start_wd = 0.000001\n",
    "for i in range(1,8):\n",
    "    with open(os.path.join(\"./exps_sgdm/wd\",\"0.001\",\"settings.json\"),\"r\") as f:\n",
    "        js = json.load(f)\n",
    "    js[\"optimizer\"][\"optimizer\"] = \"adam\"\n",
    "    js[\"save_args\"][\"save_states_every\"] = 200000\n",
    "    js[\"save_args\"][\"save_grad_every\"] = -1\n",
    "    js[\"num_steps\"] = 200000\n",
    "    wd = round(start_wd/(2**i),8)\n",
    "    js[\"optimizer\"][\"lambda_wd\"] = wd\n",
    "    wd = str(wd)\n",
    "    os.makedirs(os.path.join(\"./exps_adam2/wd\",wd))\n",
    "    with open(os.path.join(\"./exps_adam2/wd\",wd,\"settings.json\"),\"w\") as f:\n",
    "        json.dump(js,f)\n",
    "\n",
    "    print(\"python main.py {0}/ --reset\".format(os.path.join(\"./exps_adam2/wd\",wd)))\n"
   ]
  },
  {
   "cell_type": "code",
   "execution_count": 10,
   "metadata": {},
   "outputs": [],
   "source": [
    "for hyp in os.listdir(\"./exps_adam2/noreg\"):\n",
    "    with open(os.path.join(\"./exps_adam2/noreg\",hyp,\"settings.json\"),\"r\") as f:\n",
    "        js = json.load(f)\n",
    "    \n",
    "    lr = js[\"optimizer\"][\"lr\"]\n",
    "    save_path = js[\"save_path\"]\n",
    "    save_path = save_path.split(\"/\")\n",
    "    new_name = str(round(lr,5))\n",
    "    save_path[-2] = new_name \n",
    "    save_path = \"/\".join(save_path)\n",
    "\n",
    "    with open(os.path.join(\"./exps_adam2/noreg\",hyp,\"settings.json\"),\"w\") as f:\n",
    "        json.dump(js,f)\n",
    "    \n",
    "    shutil.move(os.path.join(\"./exps_adam2/noreg\",hyp),os.path.join(\"./exps_adam2/noreg\",new_name) )"
   ]
  },
  {
   "cell_type": "code",
   "execution_count": 9,
   "metadata": {},
   "outputs": [
    {
     "name": "stdout",
     "output_type": "stream",
     "text": [
      "python main.py ./exps_sgdm/gcstdu_div4/0.4_1/ --reset\n",
      "python main.py ./exps_sgdm/gcstdu_div4/0.2_1/ --reset\n",
      "python main.py ./exps_sgdm/gcstdu_div4/0.25_1/ --reset\n",
      "python main.py ./exps_sgdm/gcstdu_div4/0.05_1/ --reset\n",
      "python main.py ./exps_sgdm/gcstdu_div4/0.3_1/ --reset\n",
      "python main.py ./exps_sgdm/gcstdu_div4/0.45_1/ --reset\n",
      "python main.py ./exps_sgdm/gcstdu_div4/0.1_1/ --reset\n",
      "python main.py ./exps_sgdm/gcstdu_div4/0.15_1/ --reset\n",
      "python main.py ./exps_sgdm/gcstdu_div4/0.5_1/ --reset\n",
      "python main.py ./exps_sgdm/gcstdu_div4/0.35_1/ --reset\n",
      "python main.py ./exps_sgdm/wd_div4/0.014/ --reset\n",
      "python main.py ./exps_sgdm/wd_div4/0.005/ --reset\n",
      "python main.py ./exps_sgdm/wd_div4/0.011/ --reset\n",
      "python main.py ./exps_sgdm/wd_div4/0.001/ --reset\n",
      "python main.py ./exps_sgdm/wd_div4/0.006/ --reset\n",
      "python main.py ./exps_sgdm/wd_div4/0.002/ --reset\n",
      "python main.py ./exps_sgdm/wd_div4/0.009/ --reset\n",
      "python main.py ./exps_sgdm/wd_div4/0.007/ --reset\n",
      "python main.py ./exps_sgdm/wd_div4/0.004/ --reset\n",
      "python main.py ./exps_sgdm/wd_div4/0.003/ --reset\n",
      "python main.py ./exps_sgdm/wd_div4/0.01/ --reset\n",
      "python main.py ./exps_sgdm/wd_div4/0.013/ --reset\n",
      "python main.py ./exps_sgdm/wd_div4/0.008/ --reset\n",
      "python main.py ./exps_sgdm/wd_div4/0.012/ --reset\n",
      "python main.py ./exps_sgdm/norm_div4/0.4_1/ --reset\n",
      "python main.py ./exps_sgdm/norm_div4/0.2_1/ --reset\n",
      "python main.py ./exps_sgdm/norm_div4/0.25_1/ --reset\n",
      "python main.py ./exps_sgdm/norm_div4/0.05_1/ --reset\n",
      "python main.py ./exps_sgdm/norm_div4/0.3_1/ --reset\n",
      "python main.py ./exps_sgdm/norm_div4/0.45_1/ --reset\n",
      "python main.py ./exps_sgdm/norm_div4/0.1_1/ --reset\n",
      "python main.py ./exps_sgdm/norm_div4/0.15_1/ --reset\n",
      "python main.py ./exps_sgdm/norm_div4/0.5_1/ --reset\n",
      "python main.py ./exps_sgdm/norm_div4/0.35_1/ --reset\n",
      "python main.py ./exps_sgdm/standard_div4/0.025/ --reset\n",
      "python main.py ./exps_sgdm/standard_div4/0.005/ --reset\n",
      "python main.py ./exps_sgdm/standard_div4/0.011/ --reset\n",
      "python main.py ./exps_sgdm/standard_div4/0.044/ --reset\n",
      "python main.py ./exps_sgdm/standard_div4/0.006/ --reset\n",
      "python main.py ./exps_sgdm/standard_div4/0.016/ --reset\n",
      "python main.py ./exps_sgdm/standard_div4/0.099/ --reset\n",
      "python main.py ./exps_sgdm/standard_div4/0.008/ --reset\n"
     ]
    }
   ],
   "source": [
    "path = \"./exps_sgdm\"\n",
    "for exp in os.listdir(path):\n",
    "\n",
    "    if exp.endswith(\"_div8\"):\n",
    "\n",
    "        for sub_exp in os.listdir(os.path.join(path,exp)):\n",
    "            if os.path.exists(os.path.join(path,exp,sub_exp,\"settings.json\")):\n",
    "                with open(os.path.join(path,exp,sub_exp,\"settings.json\"),\"r\") as f:\n",
    "                    js = json.load(f)\n",
    "                \n",
    "                js[\"model\"][\"features_div\"] = 4\n",
    "                os.makedirs(os.path.join(path,exp.replace(\"_div8\",\"_div4\"),sub_exp))\n",
    "                with open(os.path.join(path,exp.replace(\"_div8\",\"_div4\"),sub_exp,\"settings.json\"),\"w\") as f:\n",
    "                    json.dump(js,f)\n",
    "\n",
    "                print(\"python main.py {0}/ --reset\".format(os.path.join(path,exp.replace(\"_div8\",\"_div4\"),sub_exp)))\n"
   ]
  },
  {
   "cell_type": "code",
   "execution_count": 8,
   "metadata": {},
   "outputs": [
    {
     "name": "stdout",
     "output_type": "stream",
     "text": [
      "python main.py ./exps_adam2/cnorm/0.8_1/ --reset\n",
      "python main.py ./exps_adam2/cnorm/2.0_1/ --reset\n",
      "python main.py ./exps_adam2/cnorm/3.6_1/ --reset\n",
      "python main.py ./exps_adam2/cnorm/0.4_1/ --reset\n",
      "python main.py ./exps_adam2/cnorm/2.2_1/ --reset\n",
      "python main.py ./exps_adam2/cnorm/1.8_1/ --reset\n",
      "python main.py ./exps_adam2/cnorm/3.4_1/ --reset\n",
      "python main.py ./exps_adam2/cnorm/1.2_1/ --reset\n",
      "python main.py ./exps_adam2/cnorm/0.2_1/ --reset\n",
      "python main.py ./exps_adam2/cnorm/3.0_1/ --reset\n",
      "python main.py ./exps_adam2/cnorm/2.4_1/ --reset\n",
      "python main.py ./exps_adam2/cnorm/1.0_1/ --reset\n",
      "python main.py ./exps_adam2/cnorm/2.6_1/ --reset\n",
      "python main.py ./exps_adam2/cnorm/2.8_1/ --reset\n",
      "python main.py ./exps_adam2/cnorm/0.6_1/ --reset\n",
      "python main.py ./exps_adam2/cnorm/1.6_1/ --reset\n",
      "python main.py ./exps_adam2/cnorm/3.2_1/ --reset\n",
      "python main.py ./exps_adam2/cnorm/1.4_1/ --reset\n"
     ]
    }
   ],
   "source": [
    "target_folder = \"cnorm\"\n",
    "target_scheme = \"center_norm\"\n",
    "for hyperparam in os.listdir(os.path.join(\"./exps_adam2\",\"norm\")):\n",
    "    with open(os.path.join(\"./exps_adam2\",\"norm\",hyperparam,\"settings.json\"),\"r\") as f:\n",
    "        js = json.load(f)\n",
    "    \n",
    "    js[\"norm\"][\"norm_fn\"] = target_scheme\n",
    "    os.makedirs(os.path.join(\"./exps_adam2\",target_folder,hyperparam),exist_ok=True)\n",
    "    with open(os.path.join(\"./exps_adam2\",target_folder,hyperparam,\"settings.json\"),\"w\") as f:\n",
    "        json.dump(js,f)\n",
    "\n",
    "    print(\"python main.py {0}/ --reset\".format(os.path.join(\"./exps_adam2\",target_folder,hyperparam)))"
   ]
  },
  {
   "cell_type": "code",
   "execution_count": 3,
   "metadata": {},
   "outputs": [
    {
     "name": "stdout",
     "output_type": "stream",
     "text": [
      "python main.py ./exps_adam2/norm/0.2_1/ --reset\n",
      "python main.py ./exps_adam2/norm/0.4_1/ --reset\n",
      "python main.py ./exps_adam2/norm/3.0_1/ --reset\n",
      "python main.py ./exps_adam2/norm/3.2_1/ --reset\n",
      "python main.py ./exps_adam2/norm/3.4_1/ --reset\n",
      "python main.py ./exps_adam2/norm/3.6_1/ --reset\n"
     ]
    }
   ],
   "source": [
    "for i in [\"0.2\",\"0.4\",\"3.0\",\"3.2\",\"3.4\",\"3.6\"]:\n",
    "    with open(os.path.join(\"./exps_adam2\",\"norm\",\"0.6_1\",\"settings.json\"),\"r\") as f:\n",
    "        js = json.load(f)\n",
    "        js[\"optimizer\"][\"optimizer\"] = \"adam\"\n",
    "        js[\"save_args\"][\"save_states_every\"] = 50000\n",
    "        js[\"save_args\"][\"save_grad_every\"] = 50000\n",
    "        js[\"num_steps\"] = 200000\n",
    "        js[\"norm\"][\"norm_multiply\"] = float(i)\n",
    "    \n",
    "    os.makedirs(os.path.join(\"./exps_adam2\",\"norm\",i+\"_1\"),exist_ok=True)\n",
    "    with open(os.path.join(\"./exps_adam2\",\"norm\",i+\"_1\",\"settings.json\"),\"w\") as f:\n",
    "        json.dump(js,f)\n",
    "\n",
    "    print(\"python main.py {0}/ --reset\".format(os.path.join(\"./exps_adam2\",\"norm\",i+\"_1\")))\n"
   ]
  },
  {
   "cell_type": "code",
   "execution_count": 4,
   "metadata": {},
   "outputs": [
    {
     "name": "stdout",
     "output_type": "stream",
     "text": [
      "python main.py ./exps_adam2/noreg/0.025/ --reset\n",
      "python main.py ./exps_adam2/noreg/0.00625/ --reset\n",
      "python main.py ./exps_adam2/noreg/0.00011/ --reset\n",
      "python main.py ./exps_adam2/noreg/0.0001/ --reset\n",
      "python main.py ./exps_adam2/noreg/9e-05/ --reset\n",
      "python main.py ./exps_adam2/noreg/8e-05/ --reset\n"
     ]
    }
   ],
   "source": [
    "for i in [\"0.2\",\"0.4\",\"3.0\",\"3.2\",\"3.4\",\"3.6\"]:\n",
    "    with open(os.path.join(\"./exps_adam2\",\"noreg\",\"0.001\",\"settings.json\"),\"r\") as f:\n",
    "        js = json.load(f)\n",
    "        js[\"optimizer\"][\"optimizer\"] = \"adam\"\n",
    "        js[\"save_args\"][\"save_states_every\"] = 50000\n",
    "        js[\"save_args\"][\"save_grads_every\"] = 50000\n",
    "        js[\"num_steps\"] = 200000\n",
    "        js[\"optimizer\"][\"lr\"] = 0.001/(float(i)**2)\n",
    "\n",
    "        lr_str = str(round(0.001/(float(i)**2),5))\n",
    "    os.makedirs(os.path.join(\"./exps_adam2\",\"noreg\",lr_str),exist_ok=True)\n",
    "    with open(os.path.join(\"./exps_adam2\",\"noreg\",lr_str,\"settings.json\"),\"w\") as f:\n",
    "        json.dump(js,f)\n",
    "\n",
    "    print(\"python main.py {0}/ --reset\".format(os.path.join(\"./exps_adam2\",\"noreg\",lr_str)))\n"
   ]
  },
  {
   "cell_type": "code",
   "execution_count": 5,
   "metadata": {},
   "outputs": [
    {
     "name": "stdout",
     "output_type": "stream",
     "text": [
      "python main.py ./exps_adam2/norm/0.4_1/ \n",
      "python main.py ./exps_adam2/norm/0.2_1/ \n",
      "python main.py ./exps_adam2/norm/0.25_1/ \n",
      "python main.py ./exps_adam2/norm/0.05_1/ \n",
      "python main.py ./exps_adam2/norm/0.3_1/ \n",
      "python main.py ./exps_adam2/norm/0.45_1/ \n",
      "python main.py ./exps_adam2/norm/0.1_1/ \n",
      "python main.py ./exps_adam2/norm/0.15_100/ \n",
      "python main.py ./exps_adam2/norm/0.15_1/ \n",
      "python main.py ./exps_adam2/norm/0.15_10/ \n",
      "python main.py ./exps_adam2/norm/0.5_1/ \n",
      "python main.py ./exps_adam2/norm/0.35_1/ \n"
     ]
    }
   ],
   "source": [
    "for folder in os.listdir(\"./exps_adam2/norm\"):\n",
    "    print(\"python main.py {0}/ \".format(os.path.join(\"./exps_adam2/norm\", folder)))\n"
   ]
  },
  {
   "cell_type": "code",
   "execution_count": 10,
   "metadata": {},
   "outputs": [
    {
     "name": "stdout",
     "output_type": "stream",
     "text": [
      "python main.py ./exps_sgdm/norm_dssmall/0.15000000000000002_1/ --reset\n",
      "python main.py ./exps_sgdm/norm_dssmall/0.4_1/ --reset\n",
      "python main.py ./exps_sgdm/norm_dssmall/0.35000000000000003_1/ --reset\n",
      "python main.py ./exps_sgdm/norm_dssmall/0.2_1/ --reset\n",
      "python main.py ./exps_sgdm/norm_dssmall/0.25_1/ --reset\n",
      "python main.py ./exps_sgdm/norm_dssmall/0.05_1/ --reset\n",
      "python main.py ./exps_sgdm/norm_dssmall/0.3_1/ --reset\n",
      "python main.py ./exps_sgdm/norm_dssmall/0.45_1/ --reset\n",
      "python main.py ./exps_sgdm/norm_dssmall/0.1_1/ --reset\n",
      "python main.py ./exps_sgdm/norm_dssmall/0.5_1/ --reset\n",
      "python main.py ./exps_sgdm/wd_dssmall/0.014/ --reset\n",
      "python main.py ./exps_sgdm/wd_dssmall/0.005/ --reset\n",
      "python main.py ./exps_sgdm/wd_dssmall/0.011/ --reset\n",
      "python main.py ./exps_sgdm/wd_dssmall/0.001/ --reset\n",
      "python main.py ./exps_sgdm/wd_dssmall/0.010000000000000002/ --reset\n",
      "python main.py ./exps_sgdm/wd_dssmall/0.013000000000000001/ --reset\n",
      "python main.py ./exps_sgdm/wd_dssmall/0.006/ --reset\n",
      "python main.py ./exps_sgdm/wd_dssmall/0.002/ --reset\n",
      "python main.py ./exps_sgdm/wd_dssmall/0.009000000000000001/ --reset\n",
      "python main.py ./exps_sgdm/wd_dssmall/0.007/ --reset\n",
      "python main.py ./exps_sgdm/wd_dssmall/0.004/ --reset\n",
      "python main.py ./exps_sgdm/wd_dssmall/0.003/ --reset\n",
      "python main.py ./exps_sgdm/wd_dssmall/0.008/ --reset\n",
      "python main.py ./exps_sgdm/wd_dssmall/0.012/ --reset\n"
     ]
    }
   ],
   "source": [
    "for folder in os.listdir(\"./exps_sgdm/norm_dssmall\"):\n",
    "    print(\"python main.py {0}/ --reset\".format(os.path.join(\"./exps_sgdm/norm_dssmall\", folder)))\n",
    "\n",
    "for folder in os.listdir(\"./exps_sgdm/wd_dssmall\"):\n",
    "    print(\"python main.py {0}/ --reset\".format(os.path.join(\"./exps_sgdm/wd_dssmall\", folder)))"
   ]
  },
  {
   "cell_type": "code",
   "execution_count": 11,
   "metadata": {},
   "outputs": [
    {
     "name": "stderr",
     "output_type": "stream",
     "text": [
      "2025-01-14 16:44:45.429025: I tensorflow/core/util/port.cc:153] oneDNN custom operations are on. You may see slightly different numerical results due to floating-point round-off errors from different computation orders. To turn them off, set the environment variable `TF_ENABLE_ONEDNN_OPTS=0`.\n",
      "2025-01-14 16:44:45.436666: E external/local_xla/xla/stream_executor/cuda/cuda_fft.cc:485] Unable to register cuFFT factory: Attempting to register factory for plugin cuFFT when one has already been registered\n",
      "2025-01-14 16:44:45.445950: E external/local_xla/xla/stream_executor/cuda/cuda_dnn.cc:8454] Unable to register cuDNN factory: Attempting to register factory for plugin cuDNN when one has already been registered\n",
      "2025-01-14 16:44:45.448988: E external/local_xla/xla/stream_executor/cuda/cuda_blas.cc:1452] Unable to register cuBLAS factory: Attempting to register factory for plugin cuBLAS when one has already been registered\n",
      "2025-01-14 16:44:45.456390: I tensorflow/core/platform/cpu_feature_guard.cc:210] This TensorFlow binary is optimized to use available CPU instructions in performance-critical operations.\n",
      "To enable the following instructions: AVX2 AVX_VNNI FMA, in other operations, rebuild TensorFlow with the appropriate compiler flags.\n",
      "2025-01-14 16:44:45.957063: W tensorflow/compiler/tf2tensorrt/utils/py_utils.cc:38] TF-TRT Warning: Could not find TensorRT\n"
     ]
    }
   ],
   "source": [
    "import tensorflow as tf\n",
    "import tensorflow_datasets as tfds"
   ]
  },
  {
   "cell_type": "code",
   "execution_count": 27,
   "metadata": {},
   "outputs": [],
   "source": [
    "builder = tfds.builder(\"cifar10\",data_dir=\"./datasets\")\n",
    "builder.download_and_prepare()\n",
    "ds_train,ds_test = builder.as_dataset(split=[\"train\", \"test\"])\n",
    "\n",
    "solve_dict = lambda elem : (elem[\"image\"],elem[\"label\"])\n",
    "ds_train,ds_test = ds_train.map(solve_dict),ds_test.map(solve_dict)\n",
    "\n",
    "dtype = tf.dtypes.float32\n",
    "cast = lambda img,lbl : (tf.cast(img,dtype),lbl)\n",
    "ds_train,ds_test = ds_train.map(cast),ds_test.map(cast)\n",
    "\n",
    "mean = tf.convert_to_tensor([0.32768, 0.32768, 0.32768],dtype=dtype)[None,None,:]\n",
    "std = tf.convert_to_tensor([0.27755222, 0.26925606, 0.2683012 ],dtype=dtype)[None,None,:]\n",
    "\n",
    "normalize = lambda img,lbl : ((img/255-mean)/std,lbl)\n",
    "\n",
    "ds_train,ds_test = ds_train.map(normalize),ds_test.map(normalize)\n",
    "\n",
    "ds_train = ds_train.shuffle(buffer_size=50000).take(1)"
   ]
  },
  {
   "cell_type": "code",
   "execution_count": 28,
   "metadata": {},
   "outputs": [
    {
     "name": "stdout",
     "output_type": "stream",
     "text": [
      "tf.Tensor(1, shape=(), dtype=int64)\n"
     ]
    }
   ],
   "source": [
    "print(list(ds_train)[0][1])"
   ]
  }
 ],
 "metadata": {
  "kernelspec": {
   "display_name": "emecomspec",
   "language": "python",
   "name": "python3"
  },
  "language_info": {
   "codemirror_mode": {
    "name": "ipython",
    "version": 3
   },
   "file_extension": ".py",
   "mimetype": "text/x-python",
   "name": "python",
   "nbconvert_exporter": "python",
   "pygments_lexer": "ipython3",
   "version": "3.12.4"
  }
 },
 "nbformat": 4,
 "nbformat_minor": 2
}
