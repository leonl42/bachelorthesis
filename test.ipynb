{
 "cells": [
  {
   "cell_type": "code",
   "execution_count": 2,
   "metadata": {},
   "outputs": [
    {
     "name": "stdout",
     "output_type": "stream",
     "text": [
      "46.522877\n",
      "543.53455\n",
      "465.23227\n",
      "5435.3457\n",
      "11.683167\n",
      "11.683079\n"
     ]
    }
   ],
   "source": [
    "import jax\n",
    "import jax.numpy as jnp\n",
    "A = jax.random.normal(jax.random.key(4),shape=(543,543))\n",
    "\n",
    "print(jnp.linalg.matrix_norm(A,ord=2))\n",
    "print(jnp.linalg.matrix_norm(A,ord=\"fro\"))\n",
    "print(jnp.linalg.matrix_norm(10*A,ord=2))\n",
    "print(jnp.linalg.matrix_norm(10*A,ord=\"fro\"))\n",
    "print(jnp.linalg.matrix_norm(A,ord=\"fro\")/jnp.linalg.matrix_norm(A,ord=2))\n",
    "print(jnp.linalg.matrix_norm(10*A,ord=\"fro\")/jnp.linalg.matrix_norm(10*A,ord=2))"
   ]
  },
  {
   "cell_type": "code",
   "execution_count": null,
   "metadata": {},
   "outputs": [],
   "source": []
  }
 ],
 "metadata": {
  "kernelspec": {
   "display_name": "emecomspec",
   "language": "python",
   "name": "python3"
  },
  "language_info": {
   "codemirror_mode": {
    "name": "ipython",
    "version": 3
   },
   "file_extension": ".py",
   "mimetype": "text/x-python",
   "name": "python",
   "nbconvert_exporter": "python",
   "pygments_lexer": "ipython3",
   "version": "3.12.4"
  }
 },
 "nbformat": 4,
 "nbformat_minor": 2
}
